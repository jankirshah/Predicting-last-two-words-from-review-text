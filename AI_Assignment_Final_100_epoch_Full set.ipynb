{
 "cells": [
  {
   "cell_type": "markdown",
   "metadata": {},
   "source": [
    "### AI Post-Module Assignment:\n",
    "Given a set of reviews as a training set, develop a Deep Learning model that predicts the last two words in each sentence of each review.\n",
    "\n",
    "#### Developer:\n",
    "Janki Shah"
   ]
  },
  {
   "cell_type": "code",
   "execution_count": 1,
   "metadata": {},
   "outputs": [
    {
     "ename": "ModuleNotFoundError",
     "evalue": "No module named 'keras'",
     "output_type": "error",
     "traceback": [
      "\u001b[1;31m---------------------------------------------------------------------------\u001b[0m",
      "\u001b[1;31mModuleNotFoundError\u001b[0m                       Traceback (most recent call last)",
      "\u001b[1;32m<ipython-input-1-8a28f1d8b133>\u001b[0m in \u001b[0;36m<module>\u001b[1;34m\u001b[0m\n\u001b[0;32m      1\u001b[0m \u001b[1;32mfrom\u001b[0m \u001b[0mnumpy\u001b[0m \u001b[1;32mimport\u001b[0m \u001b[0marray\u001b[0m\u001b[1;33m\u001b[0m\u001b[1;33m\u001b[0m\u001b[0m\n\u001b[1;32m----> 2\u001b[1;33m \u001b[1;32mfrom\u001b[0m \u001b[0mkeras\u001b[0m\u001b[1;33m.\u001b[0m\u001b[0mpreprocessing\u001b[0m\u001b[1;33m.\u001b[0m\u001b[0mtext\u001b[0m \u001b[1;32mimport\u001b[0m \u001b[0mTokenizer\u001b[0m\u001b[1;33m\u001b[0m\u001b[1;33m\u001b[0m\u001b[0m\n\u001b[0m\u001b[0;32m      3\u001b[0m \u001b[1;32mfrom\u001b[0m \u001b[0mkeras\u001b[0m\u001b[1;33m.\u001b[0m\u001b[0mutils\u001b[0m \u001b[1;32mimport\u001b[0m \u001b[0mto_categorical\u001b[0m\u001b[1;33m\u001b[0m\u001b[1;33m\u001b[0m\u001b[0m\n\u001b[0;32m      4\u001b[0m \u001b[1;32mfrom\u001b[0m \u001b[0mkeras\u001b[0m\u001b[1;33m.\u001b[0m\u001b[0mpreprocessing\u001b[0m\u001b[1;33m.\u001b[0m\u001b[0msequence\u001b[0m \u001b[1;32mimport\u001b[0m \u001b[0mpad_sequences\u001b[0m\u001b[1;33m\u001b[0m\u001b[1;33m\u001b[0m\u001b[0m\n\u001b[0;32m      5\u001b[0m \u001b[1;32mfrom\u001b[0m \u001b[0mkeras\u001b[0m\u001b[1;33m.\u001b[0m\u001b[0mmodels\u001b[0m \u001b[1;32mimport\u001b[0m \u001b[0mSequential\u001b[0m\u001b[1;33m\u001b[0m\u001b[1;33m\u001b[0m\u001b[0m\n",
      "\u001b[1;31mModuleNotFoundError\u001b[0m: No module named 'keras'"
     ]
    }
   ],
   "source": [
    "from numpy import array\n",
    "from keras.preprocessing.text import Tokenizer\n",
    "from keras.utils import to_categorical\n",
    "from keras.preprocessing.sequence import pad_sequences\n",
    "from keras.models import Sequential\n",
    "from keras.layers import Dense\n",
    "from keras.layers import LSTM\n",
    "from keras.layers import Embedding\n",
    "from keras.utils import plot_model\n",
    "import matplotlib.pyplot as plt\n",
    "from keras.models import load_model\n",
    "from pickle import dump"
   ]
  },
  {
   "cell_type": "code",
   "execution_count": 3,
   "metadata": {},
   "outputs": [],
   "source": [
    "# Import Data as text\n",
    "with open('review.txt', 'r') as f: \n",
    "    data = f.read() # read the data as string"
   ]
  },
  {
   "cell_type": "code",
   "execution_count": 31,
   "metadata": {},
   "outputs": [
    {
     "name": "stdout",
     "output_type": "stream",
     "text": [
      "Total number of words in review data: 267794\n",
      "Total unique words: 12184\n"
     ]
    }
   ],
   "source": [
    "#Count word frequency\n",
    "words_in_text = data.split()\n",
    "print('Total number of words in review data:', len(words_in_text))\n",
    "print(\"Total unique words:\",len(set(words_in_text)))\n",
    "\n",
    "#Calculate each word frequency in review data\n",
    "word_freq = {}\n",
    "for words in words_in_text:\n",
    "    word_freq[words] = word_freq.get(words, 0) + 1\n",
    "    \n",
    "#Remove words with less than 5 frequency\n",
    "#less_freq_words = set()\n",
    "#for key, value in word_freq.items():\n",
    "#    if word_freq[key] < 5:\n",
    "#        less_freq_words.add(key)\n",
    "\n",
    "#final_words_in_text = set(words_in_text) - less_freq_words\n",
    "#print(\"Total unique words with > 5 frequency:\",len(final_words_in_text))"
   ]
  },
  {
   "cell_type": "code",
   "execution_count": 5,
   "metadata": {},
   "outputs": [
    {
     "name": "stdout",
     "output_type": "stream",
     "text": [
      "Vocabulary Size: 12185\n"
     ]
    }
   ],
   "source": [
    "# prepare the tokenizer on the source text\n",
    "tokenizer = Tokenizer()\n",
    "tokenizer.fit_on_texts([data])\n",
    "\n",
    "# determine the vocabulary size\n",
    "vocab_size = len(tokenizer.word_index) + 1\n",
    "print('Vocabulary Size: %d' % vocab_size)"
   ]
  },
  {
   "cell_type": "code",
   "execution_count": 6,
   "metadata": {},
   "outputs": [
    {
     "name": "stdout",
     "output_type": "stream",
     "text": [
      "Total Sequences: 239706\n"
     ]
    }
   ],
   "source": [
    "# create line-based sequences\n",
    "sequences = list()\n",
    "for line in data.split('\\n'):\n",
    "    encoded = tokenizer.texts_to_sequences([line])[0]\n",
    "    for i in range(1, len(encoded)):\n",
    "        sequence = encoded[:i+1]\n",
    "        sequences.append(sequence)\n",
    "print('Total Sequences: %d' % len(sequences))"
   ]
  },
  {
   "cell_type": "code",
   "execution_count": 7,
   "metadata": {},
   "outputs": [
    {
     "name": "stdout",
     "output_type": "stream",
     "text": [
      "Maximum Sequence Length: 14\n"
     ]
    }
   ],
   "source": [
    "# pad input sequences\n",
    "max_length = max([len(seq) for seq in sequences])\n",
    "sequences = pad_sequences(sequences, maxlen=max_length, padding='pre')\n",
    "print('Maximum Sequence Length: %d' % max_length)"
   ]
  },
  {
   "cell_type": "code",
   "execution_count": 8,
   "metadata": {},
   "outputs": [],
   "source": [
    "# split into input and output elements\n",
    "sequences = array(sequences)\n",
    "X, y = sequences[:,:-1],sequences[:,-1]\n",
    "y = to_categorical(y, num_classes=vocab_size)"
   ]
  },
  {
   "cell_type": "code",
   "execution_count": 9,
   "metadata": {},
   "outputs": [
    {
     "name": "stdout",
     "output_type": "stream",
     "text": [
      "WARNING:tensorflow:From C:\\Users\\JMRD\\Anaconda3\\envs\\deeplearning\\lib\\site-packages\\tensorflow\\python\\framework\\op_def_library.py:263: colocate_with (from tensorflow.python.framework.ops) is deprecated and will be removed in a future version.\n",
      "Instructions for updating:\n",
      "Colocations handled automatically by placer.\n",
      "_________________________________________________________________\n",
      "Layer (type)                 Output Shape              Param #   \n",
      "=================================================================\n",
      "embedding_1 (Embedding)      (None, 13, 10)            121850    \n",
      "_________________________________________________________________\n",
      "lstm_1 (LSTM)                (None, 50)                12200     \n",
      "_________________________________________________________________\n",
      "dense_1 (Dense)              (None, 12185)             621435    \n",
      "=================================================================\n",
      "Total params: 755,485\n",
      "Trainable params: 755,485\n",
      "Non-trainable params: 0\n",
      "_________________________________________________________________\n",
      "None\n"
     ]
    }
   ],
   "source": [
    "# define model\n",
    "model = Sequential()\n",
    "model.add(Embedding(vocab_size, 10, input_length=max_length-1))\n",
    "model.add(LSTM(50))\n",
    "model.add(Dense(vocab_size, activation='softmax'))\n",
    "print(model.summary())"
   ]
  },
  {
   "cell_type": "code",
   "execution_count": 10,
   "metadata": {
    "scrolled": false
   },
   "outputs": [
    {
     "name": "stdout",
     "output_type": "stream",
     "text": [
      "WARNING:tensorflow:From C:\\Users\\JMRD\\Anaconda3\\envs\\deeplearning\\lib\\site-packages\\tensorflow\\python\\ops\\math_ops.py:3066: to_int32 (from tensorflow.python.ops.math_ops) is deprecated and will be removed in a future version.\n",
      "Instructions for updating:\n",
      "Use tf.cast instead.\n",
      "Train on 191764 samples, validate on 47942 samples\n",
      "Epoch 1/100\n",
      " - 227s - loss: 6.6889 - acc: 0.0409 - val_loss: 6.5086 - val_acc: 0.0597\n",
      "Epoch 2/100\n",
      " - 229s - loss: 6.0363 - acc: 0.0886 - val_loss: 6.0549 - val_acc: 0.1120\n",
      "Epoch 3/100\n",
      " - 236s - loss: 5.5848 - acc: 0.1265 - val_loss: 5.8729 - val_acc: 0.1294\n",
      "Epoch 4/100\n",
      " - 231s - loss: 5.3448 - acc: 0.1427 - val_loss: 5.7986 - val_acc: 0.1397\n",
      "Epoch 5/100\n",
      " - 224s - loss: 5.1761 - acc: 0.1533 - val_loss: 5.7635 - val_acc: 0.1464\n",
      "Epoch 6/100\n",
      " - 221s - loss: 5.0452 - acc: 0.1615 - val_loss: 5.7554 - val_acc: 0.1504\n",
      "Epoch 7/100\n",
      " - 222s - loss: 4.9371 - acc: 0.1674 - val_loss: 5.7431 - val_acc: 0.1516\n",
      "Epoch 8/100\n",
      " - 225s - loss: 4.8457 - acc: 0.1733 - val_loss: 5.7488 - val_acc: 0.1546\n",
      "Epoch 9/100\n",
      " - 223s - loss: 4.7697 - acc: 0.1780 - val_loss: 5.7484 - val_acc: 0.1546\n",
      "Epoch 10/100\n",
      " - 222s - loss: 4.7048 - acc: 0.1813 - val_loss: 5.7592 - val_acc: 0.1554\n",
      "Epoch 11/100\n",
      " - 225s - loss: 4.6495 - acc: 0.1852 - val_loss: 5.7657 - val_acc: 0.1546\n",
      "Epoch 12/100\n",
      " - 222s - loss: 4.6010 - acc: 0.1881 - val_loss: 5.7766 - val_acc: 0.1575\n",
      "Epoch 13/100\n",
      " - 229s - loss: 4.5580 - acc: 0.1911 - val_loss: 5.7834 - val_acc: 0.1570\n",
      "Epoch 14/100\n",
      " - 232s - loss: 4.5192 - acc: 0.1938 - val_loss: 5.7971 - val_acc: 0.1572\n",
      "Epoch 15/100\n",
      " - 227s - loss: 4.4847 - acc: 0.1971 - val_loss: 5.8043 - val_acc: 0.1579\n",
      "Epoch 16/100\n",
      " - 232s - loss: 4.4523 - acc: 0.1988 - val_loss: 5.8157 - val_acc: 0.1574\n",
      "Epoch 17/100\n",
      " - 229s - loss: 4.4226 - acc: 0.2017 - val_loss: 5.8324 - val_acc: 0.1575\n",
      "Epoch 18/100\n",
      " - 229s - loss: 4.3961 - acc: 0.2037 - val_loss: 5.8415 - val_acc: 0.1569\n",
      "Epoch 19/100\n",
      " - 226s - loss: 4.3703 - acc: 0.2061 - val_loss: 5.8578 - val_acc: 0.1557\n",
      "Epoch 20/100\n",
      " - 232s - loss: 4.3466 - acc: 0.2081 - val_loss: 5.8695 - val_acc: 0.1566\n",
      "Epoch 21/100\n",
      " - 229s - loss: 4.3239 - acc: 0.2102 - val_loss: 5.8811 - val_acc: 0.1555\n",
      "Epoch 22/100\n",
      " - 229s - loss: 4.3037 - acc: 0.2117 - val_loss: 5.8967 - val_acc: 0.1558\n",
      "Epoch 23/100\n",
      " - 228s - loss: 4.2841 - acc: 0.2144 - val_loss: 5.9061 - val_acc: 0.1566\n",
      "Epoch 24/100\n",
      " - 232s - loss: 4.2655 - acc: 0.2151 - val_loss: 5.9158 - val_acc: 0.1568\n",
      "Epoch 25/100\n",
      " - 236s - loss: 4.2483 - acc: 0.2178 - val_loss: 5.9269 - val_acc: 0.1560\n",
      "Epoch 26/100\n",
      " - 236s - loss: 4.2317 - acc: 0.2193 - val_loss: 5.9413 - val_acc: 0.1553\n",
      "Epoch 27/100\n",
      " - 235s - loss: 4.2162 - acc: 0.2209 - val_loss: 5.9556 - val_acc: 0.1547\n",
      "Epoch 28/100\n",
      " - 228s - loss: 4.2023 - acc: 0.2225 - val_loss: 5.9595 - val_acc: 0.1562\n",
      "Epoch 29/100\n",
      " - 231s - loss: 4.1880 - acc: 0.2251 - val_loss: 5.9731 - val_acc: 0.1551\n",
      "Epoch 30/100\n",
      " - 232s - loss: 4.1753 - acc: 0.2260 - val_loss: 5.9820 - val_acc: 0.1549\n",
      "Epoch 31/100\n",
      " - 235s - loss: 4.1630 - acc: 0.2277 - val_loss: 5.9923 - val_acc: 0.1544\n",
      "Epoch 32/100\n",
      " - 232s - loss: 4.1508 - acc: 0.2286 - val_loss: 5.9997 - val_acc: 0.1546\n",
      "Epoch 33/100\n",
      " - 231s - loss: 4.1394 - acc: 0.2293 - val_loss: 6.0137 - val_acc: 0.1530\n",
      "Epoch 34/100\n",
      " - 232s - loss: 4.1294 - acc: 0.2314 - val_loss: 6.0198 - val_acc: 0.1526\n",
      "Epoch 35/100\n",
      " - 231s - loss: 4.1201 - acc: 0.2323 - val_loss: 6.0313 - val_acc: 0.1530\n",
      "Epoch 36/100\n",
      " - 231s - loss: 4.1101 - acc: 0.2336 - val_loss: 6.0334 - val_acc: 0.1532\n",
      "Epoch 37/100\n",
      " - 229s - loss: 4.1010 - acc: 0.2345 - val_loss: 6.0415 - val_acc: 0.1537\n",
      "Epoch 38/100\n",
      " - 230s - loss: 4.0921 - acc: 0.2353 - val_loss: 6.0584 - val_acc: 0.1530\n",
      "Epoch 39/100\n",
      " - 232s - loss: 4.0832 - acc: 0.2363 - val_loss: 6.0643 - val_acc: 0.1533\n",
      "Epoch 40/100\n",
      " - 229s - loss: 4.0746 - acc: 0.2377 - val_loss: 6.0742 - val_acc: 0.1530\n",
      "Epoch 41/100\n",
      " - 230s - loss: 4.0679 - acc: 0.2380 - val_loss: 6.0790 - val_acc: 0.1529\n",
      "Epoch 42/100\n",
      " - 234s - loss: 4.0607 - acc: 0.2391 - val_loss: 6.0882 - val_acc: 0.1525\n",
      "Epoch 43/100\n",
      " - 233s - loss: 4.0530 - acc: 0.2402 - val_loss: 6.0929 - val_acc: 0.1518\n",
      "Epoch 44/100\n",
      " - 243s - loss: 4.0460 - acc: 0.2412 - val_loss: 6.0992 - val_acc: 0.1531\n",
      "Epoch 45/100\n",
      " - 254s - loss: 4.0398 - acc: 0.2410 - val_loss: 6.1106 - val_acc: 0.1512\n",
      "Epoch 46/100\n",
      " - 248s - loss: 4.0332 - acc: 0.2426 - val_loss: 6.1150 - val_acc: 0.1510\n",
      "Epoch 47/100\n",
      " - 248s - loss: 4.0271 - acc: 0.2420 - val_loss: 6.1315 - val_acc: 0.1513\n",
      "Epoch 48/100\n",
      " - 241s - loss: 4.0217 - acc: 0.2436 - val_loss: 6.1387 - val_acc: 0.1506\n",
      "Epoch 49/100\n",
      " - 252s - loss: 4.0154 - acc: 0.2446 - val_loss: 6.1396 - val_acc: 0.1502\n",
      "Epoch 50/100\n",
      " - 262s - loss: 4.0104 - acc: 0.2455 - val_loss: 6.1497 - val_acc: 0.1493\n",
      "Epoch 51/100\n",
      " - 232s - loss: 4.0049 - acc: 0.2457 - val_loss: 6.1524 - val_acc: 0.1508\n",
      "Epoch 52/100\n",
      " - 255s - loss: 3.9993 - acc: 0.2466 - val_loss: 6.1586 - val_acc: 0.1500\n",
      "Epoch 53/100\n",
      " - 247s - loss: 3.9948 - acc: 0.2466 - val_loss: 6.1611 - val_acc: 0.1501\n",
      "Epoch 54/100\n",
      " - 241s - loss: 3.9912 - acc: 0.2474 - val_loss: 6.1696 - val_acc: 0.1498\n",
      "Epoch 55/100\n",
      " - 253s - loss: 3.9854 - acc: 0.2481 - val_loss: 6.1731 - val_acc: 0.1503\n",
      "Epoch 56/100\n",
      " - 240s - loss: 3.9808 - acc: 0.2488 - val_loss: 6.1876 - val_acc: 0.1491\n",
      "Epoch 57/100\n",
      " - 267s - loss: 3.9758 - acc: 0.2492 - val_loss: 6.1877 - val_acc: 0.1494\n",
      "Epoch 58/100\n",
      " - 240s - loss: 3.9721 - acc: 0.2493 - val_loss: 6.1959 - val_acc: 0.1492\n",
      "Epoch 59/100\n",
      " - 246s - loss: 3.9676 - acc: 0.2504 - val_loss: 6.2000 - val_acc: 0.1475\n",
      "Epoch 60/100\n",
      " - 247s - loss: 3.9632 - acc: 0.2503 - val_loss: 6.2051 - val_acc: 0.1491\n",
      "Epoch 61/100\n",
      " - 237s - loss: 3.9605 - acc: 0.2517 - val_loss: 6.2131 - val_acc: 0.1482\n",
      "Epoch 62/100\n",
      " - 240s - loss: 3.9562 - acc: 0.2521 - val_loss: 6.2137 - val_acc: 0.1487\n",
      "Epoch 63/100\n",
      " - 232s - loss: 3.9521 - acc: 0.2524 - val_loss: 6.2150 - val_acc: 0.1489\n",
      "Epoch 64/100\n",
      " - 232s - loss: 3.9477 - acc: 0.2530 - val_loss: 6.2262 - val_acc: 0.1470\n",
      "Epoch 65/100\n",
      " - 238s - loss: 3.9448 - acc: 0.2527 - val_loss: 6.2297 - val_acc: 0.1462\n",
      "Epoch 66/100\n",
      " - 244s - loss: 3.9408 - acc: 0.2533 - val_loss: 6.2314 - val_acc: 0.1482\n",
      "Epoch 67/100\n",
      " - 237s - loss: 3.9380 - acc: 0.2544 - val_loss: 6.2444 - val_acc: 0.1464\n",
      "Epoch 68/100\n",
      " - 238s - loss: 3.9346 - acc: 0.2549 - val_loss: 6.2471 - val_acc: 0.1463\n",
      "Epoch 69/100\n",
      " - 235s - loss: 3.9313 - acc: 0.2549 - val_loss: 6.2467 - val_acc: 0.1479\n",
      "Epoch 70/100\n",
      " - 233s - loss: 3.9273 - acc: 0.2553 - val_loss: 6.2539 - val_acc: 0.1468\n",
      "Epoch 71/100\n",
      " - 229s - loss: 3.9257 - acc: 0.2563 - val_loss: 6.2624 - val_acc: 0.1458\n",
      "Epoch 72/100\n",
      " - 234s - loss: 3.9226 - acc: 0.2568 - val_loss: 6.2639 - val_acc: 0.1461\n",
      "Epoch 73/100\n",
      " - 229s - loss: 3.9199 - acc: 0.2569 - val_loss: 6.2675 - val_acc: 0.1471\n",
      "Epoch 74/100\n",
      " - 236s - loss: 3.9167 - acc: 0.2565 - val_loss: 6.2690 - val_acc: 0.1474\n",
      "Epoch 75/100\n",
      " - 228s - loss: 3.9139 - acc: 0.2573 - val_loss: 6.2810 - val_acc: 0.1447\n",
      "Epoch 76/100\n",
      " - 230s - loss: 3.9105 - acc: 0.2579 - val_loss: 6.2812 - val_acc: 0.1464\n",
      "Epoch 77/100\n",
      " - 230s - loss: 3.9080 - acc: 0.2584 - val_loss: 6.2904 - val_acc: 0.1449\n",
      "Epoch 78/100\n",
      " - 229s - loss: 3.9055 - acc: 0.2585 - val_loss: 6.2925 - val_acc: 0.1450\n",
      "Epoch 79/100\n",
      " - 227s - loss: 3.9038 - acc: 0.2583 - val_loss: 6.2919 - val_acc: 0.1444\n",
      "Epoch 80/100\n",
      " - 235s - loss: 3.9005 - acc: 0.2598 - val_loss: 6.2990 - val_acc: 0.1461\n",
      "Epoch 81/100\n",
      " - 238s - loss: 3.8984 - acc: 0.2594 - val_loss: 6.3070 - val_acc: 0.1448\n",
      "Epoch 82/100\n",
      " - 238s - loss: 3.8963 - acc: 0.2597 - val_loss: 6.3007 - val_acc: 0.1446\n",
      "Epoch 83/100\n",
      " - 235s - loss: 3.8940 - acc: 0.2598 - val_loss: 6.3083 - val_acc: 0.1453\n",
      "Epoch 84/100\n",
      " - 235s - loss: 3.8921 - acc: 0.2602 - val_loss: 6.3137 - val_acc: 0.1442\n",
      "Epoch 85/100\n",
      " - 238s - loss: 3.8893 - acc: 0.2606 - val_loss: 6.3260 - val_acc: 0.1428\n",
      "Epoch 86/100\n",
      " - 237s - loss: 3.8871 - acc: 0.2610 - val_loss: 6.3221 - val_acc: 0.1448\n",
      "Epoch 87/100\n",
      " - 236s - loss: 3.8853 - acc: 0.2615 - val_loss: 6.3259 - val_acc: 0.1438\n",
      "Epoch 88/100\n",
      " - 233s - loss: 3.8825 - acc: 0.2616 - val_loss: 6.3341 - val_acc: 0.1443\n",
      "Epoch 89/100\n",
      " - 238s - loss: 3.8806 - acc: 0.2621 - val_loss: 6.3273 - val_acc: 0.1433\n",
      "Epoch 90/100\n",
      " - 236s - loss: 3.8790 - acc: 0.2625 - val_loss: 6.3334 - val_acc: 0.1446\n",
      "Epoch 91/100\n",
      " - 232s - loss: 3.8763 - acc: 0.2628 - val_loss: 6.3295 - val_acc: 0.1434\n"
     ]
    },
    {
     "name": "stdout",
     "output_type": "stream",
     "text": [
      "Epoch 92/100\n",
      " - 235s - loss: 3.8743 - acc: 0.2630 - val_loss: 6.3376 - val_acc: 0.1440\n",
      "Epoch 93/100\n",
      " - 233s - loss: 3.8728 - acc: 0.2625 - val_loss: 6.3507 - val_acc: 0.1430\n",
      "Epoch 94/100\n",
      " - 238s - loss: 3.8700 - acc: 0.2634 - val_loss: 6.3470 - val_acc: 0.1448\n",
      "Epoch 95/100\n",
      " - 234s - loss: 3.8693 - acc: 0.2634 - val_loss: 6.3585 - val_acc: 0.1423\n",
      "Epoch 96/100\n",
      " - 235s - loss: 3.8670 - acc: 0.2639 - val_loss: 6.3622 - val_acc: 0.1429\n",
      "Epoch 97/100\n",
      " - 235s - loss: 3.8647 - acc: 0.2640 - val_loss: 6.3618 - val_acc: 0.1446\n",
      "Epoch 98/100\n",
      " - 237s - loss: 3.8638 - acc: 0.2640 - val_loss: 6.3592 - val_acc: 0.1439\n",
      "Epoch 99/100\n",
      " - 242s - loss: 3.8616 - acc: 0.2647 - val_loss: 6.3721 - val_acc: 0.1429\n",
      "Epoch 100/100\n",
      " - 233s - loss: 3.8607 - acc: 0.2645 - val_loss: 6.3675 - val_acc: 0.1429\n"
     ]
    }
   ],
   "source": [
    "# compile network\n",
    "model.compile(loss='categorical_crossentropy', optimizer='adam', metrics=['accuracy'])\n",
    "# fit network\n",
    "model_hist = model.fit(X, y, validation_split=0.20, epochs=100, verbose=2)"
   ]
  },
  {
   "cell_type": "code",
   "execution_count": 11,
   "metadata": {
    "scrolled": true
   },
   "outputs": [
    {
     "name": "stdout",
     "output_type": "stream",
     "text": [
      "239706/239706 [==============================] - 80s 335us/step\n",
      "Model evaluation result:\n",
      " ['loss', 'acc'] [4.276246258261887, 0.25054024513424367]\n"
     ]
    }
   ],
   "source": [
    "results = model.evaluate(X, y)\n",
    "print(\"Model evaluation result:\\n\", model.metrics_names, results)"
   ]
  },
  {
   "cell_type": "code",
   "execution_count": 36,
   "metadata": {},
   "outputs": [],
   "source": [
    "# save the model to file\n",
    "model.save('final_model_Full_100.h5')\n",
    "# save the tokenizer\n",
    "dump(tokenizer, open('final_tokenizer_Full_100.pkl', 'wb'))"
   ]
  },
  {
   "cell_type": "code",
   "execution_count": 13,
   "metadata": {},
   "outputs": [],
   "source": [
    "# load the model\n",
    "# model = load_model('model_Full_100.h5') # Execute the code in case "
   ]
  },
  {
   "cell_type": "code",
   "execution_count": 14,
   "metadata": {},
   "outputs": [
    {
     "data": {
      "image/png": "[encoded data removed]",
      "text/plain": [
       "<Figure size 432x288 with 1 Axes>"
      ]
     },
     "metadata": {
      "needs_background": "light"
     },
     "output_type": "display_data"
    }
   ],
   "source": [
    "# Plot training & validation accuracy values\n",
    "plt.plot(model_hist.history['acc'])\n",
    "plt.plot(model_hist.history['val_acc'])\n",
    "plt.title('Model Accuracy')\n",
    "plt.ylabel('Accuracy')\n",
    "plt.xlabel('Epoch')\n",
    "plt.legend(['Train', 'Test'], loc='upper left')\n",
    "plt.show()"
   ]
  },
  {
   "cell_type": "code",
   "execution_count": 15,
   "metadata": {},
   "outputs": [
    {
     "data": {
      "image/png": "[encoded data removed]",
      "text/plain": [
       "<Figure size 432x288 with 1 Axes>"
      ]
     },
     "metadata": {
      "needs_background": "light"
     },
     "output_type": "display_data"
    }
   ],
   "source": [
    "# Plot training & validation loss values\n",
    "plt.plot(model_hist.history['loss'])\n",
    "plt.plot(model_hist.history['val_loss'])\n",
    "plt.title('Model Loss')\n",
    "plt.ylabel('Loss')\n",
    "plt.xlabel('Epoch')\n",
    "plt.legend(['Train', 'Test'], loc='upper right')\n",
    "plt.show()"
   ]
  },
  {
   "cell_type": "code",
   "execution_count": 26,
   "metadata": {},
   "outputs": [],
   "source": [
    "# Predict words\n",
    "def predict_last_two_words(model, tokenizer, max_length, seed_text, n_words):\n",
    "    in_text = seed_text\n",
    "    # generate a fixed number of words\n",
    "    for _ in range(n_words):\n",
    "        # encode the text as integer\n",
    "        encoded = tokenizer.texts_to_sequences([in_text])[0]\n",
    "        \n",
    "        # pre-pad sequences to a fixed length\n",
    "        encoded = pad_sequences([encoded], maxlen=max_length, padding='pre')\n",
    "        \n",
    "        # predict probabilities for each word\n",
    "        yhat = model.predict_classes(encoded, verbose=0)\n",
    "\n",
    "        # map predicted word index to word\n",
    "        out_word = ''\n",
    "        for word, index in tokenizer.word_index.items():\n",
    "            if index == yhat:\n",
    "                out_word = word\n",
    "                break\n",
    "        # append to input\n",
    "        in_text += ' ' + out_word\n",
    "    return in_text"
   ]
  },
  {
   "cell_type": "code",
   "execution_count": 27,
   "metadata": {},
   "outputs": [],
   "source": [
    "# Prediction of last two words\n",
    "\n",
    "actual = []\n",
    "predicted = []\n",
    "for line in data.split('\\n'):\n",
    "    \n",
    "    #Split sentence and Get actual value\n",
    "    line_list = line.split(' ')\n",
    "    first_sentence = ' '.join(line_list[:-2])\n",
    "    actual_last_two_words = line_list[-2] + ' ' + line_list[-1]\n",
    "    \n",
    "    #Make a prediction\n",
    "    pred_sentence = predict_last_two_words(model, tokenizer, max_length-1, first_sentence, 2)\n",
    "\n",
    "    #Split predicted sentence and Get predicted value\n",
    "    pred_sentence_list = pred_sentence.split(' ')\n",
    "    pred_last_two_words = pred_sentence_list[-2] + ' ' + pred_sentence_list[-1]\n",
    "    \n",
    "    #append in list\n",
    "    actual.append(actual_last_two_words)\n",
    "    predicted.append(pred_last_two_words)"
   ]
  },
  {
   "cell_type": "code",
   "execution_count": 28,
   "metadata": {},
   "outputs": [
    {
     "name": "stdout",
     "output_type": "stream",
     "text": [
      "not much to write about here but it does exactly what its supposed to\n",
      "i guess i should read instructions of the\n"
     ]
    }
   ],
   "source": [
    "#Examples \n",
    "print(predict_last_two_words(model, tokenizer, max_length-1, \"not much to write about here but it does exactly what its\", 2))\n",
    "print(predict_last_two_words(model, tokenizer, max_length-1, \"i guess i should read instructions\", 2))"
   ]
  },
  {
   "cell_type": "code",
   "execution_count": 29,
   "metadata": {},
   "outputs": [],
   "source": [
    "#Create Actual vs Predicted list for last two words\n",
    "actual_predicted_list = []\n",
    "for i in range(0, len(actual)-1):\n",
    "    if actual[i] == predicted[i]:\n",
    "        actual_predicted_list.append(True)\n",
    "    else:\n",
    "        actual_predicted_list.append(False)"
   ]
  },
  {
   "cell_type": "code",
   "execution_count": 30,
   "metadata": {},
   "outputs": [],
   "source": [
    "# Calculate total count of Correct and Incorrect\n",
    "total_true_words_count = actual_predicted_list.count(True)\n",
    "total_false_words_count = actual_predicted_list.count(False)\n",
    "total_words = len(actual_predicted_list)"
   ]
  },
  {
   "cell_type": "code",
   "execution_count": 25,
   "metadata": {},
   "outputs": [
    {
     "name": "stdout",
     "output_type": "stream",
     "text": [
      "10.46 % of words were predicted correctly.\n",
      "89.54 % of words were predicted incorrectly.\n"
     ]
    }
   ],
   "source": [
    "# Word prediction accuracy for the word prediction problem \n",
    "T_word_accuracy = round((total_true_words_count/total_words)* 100,2)\n",
    "F_word_accuracy = round((total_false_words_count/total_words)* 100,2)\n",
    "print(T_word_accuracy,'% of words were predicted correctly.')\n",
    "print(F_word_accuracy,'% of words were predicted incorrectly.')"
   ]
  },
  {
   "cell_type": "markdown",
   "metadata": {},
   "source": [
    "##### Reference: \n",
    "We used code from the following link to predict the last two words (One word In, One Word out sequence - line by line approach).\n",
    "https://machinelearningmastery.com/develop-word-based-neural-language-models-python-keras/"
   ]
  }
 ],
 "metadata": {
  "kernelspec": {
   "display_name": "Python 3",
   "language": "python",
   "name": "python3"
  },
  "language_info": {
   "codemirror_mode": {
    "name": "ipython",
    "version": 3
   },
   "file_extension": ".py",
   "mimetype": "text/x-python",
   "name": "python",
   "nbconvert_exporter": "python",
   "pygments_lexer": "ipython3",
   "version": "3.7.1"
  }
 },
 "nbformat": 4,
 "nbformat_minor": 2
}
